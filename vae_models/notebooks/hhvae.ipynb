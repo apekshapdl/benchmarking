{
 "cells": [
  {
   "cell_type": "code",
   "execution_count": 1,
   "id": "3dbd5bd7",
   "metadata": {},
   "outputs": [
    {
     "ename": "ModuleNotFoundError",
     "evalue": "No module named 'hhvae'",
     "output_type": "error",
     "traceback": [
      "\u001b[1;31m---------------------------------------------------------------------------\u001b[0m",
      "\u001b[1;31mModuleNotFoundError\u001b[0m                       Traceback (most recent call last)",
      "Cell \u001b[1;32mIn[1], line 12\u001b[0m\n\u001b[0;32m     10\u001b[0m \u001b[38;5;28;01mfrom\u001b[39;00m \u001b[38;5;21;01mtorch\u001b[39;00m\u001b[38;5;21;01m.\u001b[39;00m\u001b[38;5;21;01mutils\u001b[39;00m\u001b[38;5;21;01m.\u001b[39;00m\u001b[38;5;21;01mdata\u001b[39;00m \u001b[38;5;28;01mimport\u001b[39;00m DataLoader, TensorDataset\n\u001b[0;32m     11\u001b[0m \u001b[38;5;66;03m#import matplotlib as plt\u001b[39;00m\n\u001b[1;32m---> 12\u001b[0m \u001b[38;5;28;01mfrom\u001b[39;00m \u001b[38;5;21;01mhhvae\u001b[39;00m \u001b[38;5;28;01mimport\u001b[39;00m DeepHierarchicalVAE, train_models_deep_hvae, evaluate_model_deep_hvae\n",
      "\u001b[1;31mModuleNotFoundError\u001b[0m: No module named 'hhvae'"
     ]
    }
   ],
   "source": [
    "import numpy as np\n",
    "import pandas as pd\n",
    "from sklearn.preprocessing import MinMaxScaler\n",
    "from sklearn.metrics import roc_auc_score, precision_recall_curve, auc\n",
    "#import time\n",
    "from pyod.models.vae import VAE\n",
    "import torch\n",
    "#import torch.nn as nn\n",
    "import torch.nn.functional as F\n",
    "from torch.utils.data import DataLoader, TensorDataset\n",
    "#import matplotlib as plt\n",
    "from hhvae import DeepHierarchicalVAE, train_models_deep_hvae, evaluate_model_deep_hvae\n",
    "\n"
   ]
  },
  {
   "cell_type": "code",
   "execution_count": null,
   "id": "ee9acae9",
   "metadata": {},
   "outputs": [],
   "source": [
    "f = np.load(\"C:/Users/apekx/Desktop/thesis/Avowels.npz\")\n",
    "X_train = f[\"x\"]\n",
    "X_test = f[\"tx\"]\n",
    "y_test = f[\"ty\"]"
   ]
  },
  {
   "cell_type": "code",
   "execution_count": null,
   "id": "4d31967b",
   "metadata": {},
   "outputs": [],
   "source": [
    "#Data Normalization\n",
    "mean = X_train.mean(axis=0)\n",
    "std = X_train.std(axis=0)\n",
    "X_train = (X_train - mean) / std\n",
    "X_test = (X_test - mean) / std\n",
    "\n",
    "X_train_tensor = torch.tensor(X_train, dtype=torch.float32)\n",
    "X_test_tensor = torch.tensor(X_test, dtype=torch.float32)\n",
    "y_test = y_test.astype(int)\n",
    "\n",
    "train_loader = DataLoader(TensorDataset(X_train_tensor), batch_size=64, shuffle=True)\n",
    "X_train = np.nan_to_num(X_train, nan=0.0, posinf=1.0, neginf=-1.0)\n",
    "X_test = np.nan_to_num(X_test, nan=0.0, posinf=1.0, neginf=-1.0)\n",
    "\n"
   ]
  },
  {
   "cell_type": "code",
   "execution_count": null,
   "id": "fe0a9c9d",
   "metadata": {},
   "outputs": [
    {
     "name": "stdout",
     "output_type": "stream",
     "text": [
      "z1: 8, z2: 4, z3: 2, epochs: 100, AUC: 0.9288\n",
      "z1: 8, z2: 4, z3: 2, epochs: 200, AUC: 0.9176\n",
      "z1: 8, z2: 4, z3: 4, epochs: 100, AUC: 0.9108\n",
      "z1: 8, z2: 4, z3: 4, epochs: 200, AUC: 0.9460\n",
      "z1: 8, z2: 4, z3: 8, epochs: 100, AUC: 0.9244\n",
      "z1: 8, z2: 4, z3: 8, epochs: 200, AUC: 0.9176\n",
      "z1: 8, z2: 8, z3: 2, epochs: 100, AUC: 0.9316\n",
      "z1: 8, z2: 8, z3: 2, epochs: 200, AUC: 0.9256\n",
      "z1: 8, z2: 8, z3: 4, epochs: 100, AUC: 0.9236\n",
      "z1: 8, z2: 8, z3: 4, epochs: 200, AUC: 0.9276\n",
      "z1: 8, z2: 8, z3: 8, epochs: 100, AUC: 0.9480\n",
      "z1: 8, z2: 8, z3: 8, epochs: 200, AUC: 0.9188\n",
      "z1: 8, z2: 16, z3: 2, epochs: 100, AUC: 0.9212\n",
      "z1: 8, z2: 16, z3: 2, epochs: 200, AUC: 0.9352\n",
      "z1: 8, z2: 16, z3: 4, epochs: 100, AUC: 0.9268\n",
      "z1: 8, z2: 16, z3: 4, epochs: 200, AUC: 0.9484\n",
      "z1: 8, z2: 16, z3: 8, epochs: 100, AUC: 0.9028\n",
      "z1: 8, z2: 16, z3: 8, epochs: 200, AUC: 0.9256\n",
      "z1: 16, z2: 4, z3: 2, epochs: 100, AUC: 0.9332\n",
      "z1: 16, z2: 4, z3: 2, epochs: 200, AUC: 0.9172\n",
      "z1: 16, z2: 4, z3: 4, epochs: 100, AUC: 0.9532\n",
      "z1: 16, z2: 4, z3: 4, epochs: 200, AUC: 0.9024\n",
      "z1: 16, z2: 4, z3: 8, epochs: 100, AUC: 0.9144\n",
      "z1: 16, z2: 4, z3: 8, epochs: 200, AUC: 0.9448\n",
      "z1: 16, z2: 8, z3: 2, epochs: 100, AUC: 0.9180\n",
      "z1: 16, z2: 8, z3: 2, epochs: 200, AUC: 0.9216\n",
      "z1: 16, z2: 8, z3: 4, epochs: 100, AUC: 0.9088\n",
      "z1: 16, z2: 8, z3: 4, epochs: 200, AUC: 0.9064\n",
      "z1: 16, z2: 8, z3: 8, epochs: 100, AUC: 0.9136\n",
      "z1: 16, z2: 8, z3: 8, epochs: 200, AUC: 0.9324\n",
      "z1: 16, z2: 16, z3: 2, epochs: 100, AUC: 0.9132\n",
      "z1: 16, z2: 16, z3: 2, epochs: 200, AUC: 0.9148\n",
      "z1: 16, z2: 16, z3: 4, epochs: 100, AUC: 0.8732\n",
      "z1: 16, z2: 16, z3: 4, epochs: 200, AUC: 0.9148\n",
      "z1: 16, z2: 16, z3: 8, epochs: 100, AUC: 0.8820\n",
      "z1: 16, z2: 16, z3: 8, epochs: 200, AUC: 0.9284\n",
      "z1: 24, z2: 4, z3: 2, epochs: 100, AUC: 0.9076\n",
      "z1: 24, z2: 4, z3: 2, epochs: 200, AUC: 0.9288\n",
      "z1: 24, z2: 4, z3: 4, epochs: 100, AUC: 0.8880\n",
      "z1: 24, z2: 4, z3: 4, epochs: 200, AUC: 0.9488\n",
      "z1: 24, z2: 4, z3: 8, epochs: 100, AUC: 0.9200\n",
      "z1: 24, z2: 4, z3: 8, epochs: 200, AUC: 0.9216\n",
      "z1: 24, z2: 8, z3: 2, epochs: 100, AUC: 0.8900\n",
      "z1: 24, z2: 8, z3: 2, epochs: 200, AUC: 0.9364\n",
      "z1: 24, z2: 8, z3: 4, epochs: 100, AUC: 0.8988\n",
      "z1: 24, z2: 8, z3: 4, epochs: 200, AUC: 0.9416\n",
      "z1: 24, z2: 8, z3: 8, epochs: 100, AUC: 0.9040\n",
      "z1: 24, z2: 8, z3: 8, epochs: 200, AUC: 0.9384\n",
      "z1: 24, z2: 16, z3: 2, epochs: 100, AUC: 0.9260\n",
      "z1: 24, z2: 16, z3: 2, epochs: 200, AUC: 0.9372\n",
      "z1: 24, z2: 16, z3: 4, epochs: 100, AUC: 0.8956\n",
      "z1: 24, z2: 16, z3: 4, epochs: 200, AUC: 0.9176\n",
      "z1: 24, z2: 16, z3: 8, epochs: 100, AUC: 0.9296\n",
      "z1: 24, z2: 16, z3: 8, epochs: 200, AUC: 0.9216\n"
     ]
    }
   ],
   "source": [
    "\n",
    "input_dim = X_train.shape[1]\n",
    "\n",
    "results = train_models_deep_hvae(\n",
    "    X_train=X_train,\n",
    "    X_test=X_test,\n",
    "    y_test=y_test,\n",
    "    input_dim=input_dim,\n",
    "    z1_list=[8, 16, 24],\n",
    "    z2_list=[4, 8, 16],\n",
    "    z3_list = [2, 4, 8],\n",
    "    epoch_list=[100, 200],\n",
    "    optimizer_type=\"adam\"\n",
    ")\n"
   ]
  },
  {
   "cell_type": "code",
   "execution_count": null,
   "id": "b6713e1c",
   "metadata": {},
   "outputs": [],
   "source": [
    "df_results = pd.DataFrame(results)"
   ]
  },
  {
   "cell_type": "code",
   "execution_count": null,
   "id": "b0bca9c9",
   "metadata": {},
   "outputs": [
    {
     "name": "stdout",
     "output_type": "stream",
     "text": [
      "\n",
      "Top 5 configurations by AUC:\n",
      "    z1_dim  z2_dim  z3_dim  epochs optimizer     auc  \\\n",
      "20      16       4       4     100      adam  0.9532   \n",
      "39      24       4       4     200      adam  0.9488   \n",
      "15       8      16       4     200      adam  0.9484   \n",
      "10       8       8       8     100      adam  0.9480   \n",
      "3        8       4       4     200      adam  0.9460   \n",
      "\n",
      "                                                model  \n",
      "20  DeepHierarchicalVAE(\\n  (encoder_z3): EncoderZ...  \n",
      "39  DeepHierarchicalVAE(\\n  (encoder_z3): EncoderZ...  \n",
      "15  DeepHierarchicalVAE(\\n  (encoder_z3): EncoderZ...  \n",
      "10  DeepHierarchicalVAE(\\n  (encoder_z3): EncoderZ...  \n",
      "3   DeepHierarchicalVAE(\\n  (encoder_z3): EncoderZ...  \n"
     ]
    }
   ],
   "source": [
    "top = df_results.sort_values(by=\"auc\", ascending=False).head(5)\n",
    "print(\"\\nTop 5 configurations by AUC:\")\n",
    "print(top)\n"
   ]
  },
  {
   "cell_type": "code",
   "execution_count": null,
   "id": "8b1d7f13",
   "metadata": {},
   "outputs": [],
   "source": [
    "filepath = \"C:/Users/apekx/Desktop/thesis/AIonosphere.npz\"\n",
    "\n",
    "data = np.load(filepath)"
   ]
  },
  {
   "cell_type": "code",
   "execution_count": null,
   "id": "1fc827e8",
   "metadata": {},
   "outputs": [
    {
     "name": "stdout",
     "output_type": "stream",
     "text": [
      "['x', 'tx', 'ty']\n"
     ]
    }
   ],
   "source": [
    "print(data.files)"
   ]
  },
  {
   "cell_type": "code",
   "execution_count": null,
   "id": "89831ed3",
   "metadata": {},
   "outputs": [
    {
     "name": "stdout",
     "output_type": "stream",
     "text": [
      "Train data (x): (99, 32)\n",
      "Test data (tx): (252, 32)\n",
      "Test labels (ty): (252,)\n",
      "Test label counts: [126 126]\n"
     ]
    }
   ],
   "source": [
    "print(\"Train data (x):\", data[\"x\"].shape)\n",
    "print(\"Test data (tx):\", data[\"tx\"].shape)\n",
    "print(\"Test labels (ty):\", data[\"ty\"].shape)\n",
    "print(\"Test label counts:\", np.bincount(data[\"ty\"].astype(int)))\n",
    "\n"
   ]
  },
  {
   "cell_type": "code",
   "execution_count": null,
   "id": "8fb78d4a",
   "metadata": {},
   "outputs": [
    {
     "name": "stdout",
     "output_type": "stream",
     "text": [
      "z1: 8, z2: 4, z3: 2, epochs: 100, AUC: 0.9442\n",
      "z1: 8, z2: 4, z3: 2, epochs: 200, AUC: 0.9412\n",
      "z1: 8, z2: 4, z3: 4, epochs: 100, AUC: 0.9559\n",
      "z1: 8, z2: 4, z3: 4, epochs: 200, AUC: 0.9396\n",
      "z1: 8, z2: 4, z3: 8, epochs: 100, AUC: 0.9526\n",
      "z1: 8, z2: 4, z3: 8, epochs: 200, AUC: 0.9436\n",
      "z1: 8, z2: 8, z3: 2, epochs: 100, AUC: 0.9447\n",
      "z1: 8, z2: 8, z3: 2, epochs: 200, AUC: 0.9369\n",
      "z1: 8, z2: 8, z3: 4, epochs: 100, AUC: 0.9431\n",
      "z1: 8, z2: 8, z3: 4, epochs: 200, AUC: 0.9365\n",
      "z1: 8, z2: 8, z3: 8, epochs: 100, AUC: 0.9492\n",
      "z1: 8, z2: 8, z3: 8, epochs: 200, AUC: 0.9325\n",
      "z1: 8, z2: 16, z3: 2, epochs: 100, AUC: 0.9637\n",
      "z1: 8, z2: 16, z3: 2, epochs: 200, AUC: 0.9548\n",
      "z1: 8, z2: 16, z3: 4, epochs: 100, AUC: 0.9573\n",
      "z1: 8, z2: 16, z3: 4, epochs: 200, AUC: 0.9361\n",
      "z1: 8, z2: 16, z3: 8, epochs: 100, AUC: 0.9509\n",
      "z1: 8, z2: 16, z3: 8, epochs: 200, AUC: 0.9481\n",
      "z1: 16, z2: 4, z3: 2, epochs: 100, AUC: 0.9429\n",
      "z1: 16, z2: 4, z3: 2, epochs: 200, AUC: 0.9407\n",
      "z1: 16, z2: 4, z3: 4, epochs: 100, AUC: 0.9427\n",
      "z1: 16, z2: 4, z3: 4, epochs: 200, AUC: 0.9511\n",
      "z1: 16, z2: 4, z3: 8, epochs: 100, AUC: 0.9399\n",
      "z1: 16, z2: 4, z3: 8, epochs: 200, AUC: 0.9540\n",
      "z1: 16, z2: 8, z3: 2, epochs: 100, AUC: 0.9407\n",
      "z1: 16, z2: 8, z3: 2, epochs: 200, AUC: 0.9489\n",
      "z1: 16, z2: 8, z3: 4, epochs: 100, AUC: 0.9483\n",
      "z1: 16, z2: 8, z3: 4, epochs: 200, AUC: 0.9432\n",
      "z1: 16, z2: 8, z3: 8, epochs: 100, AUC: 0.9330\n",
      "z1: 16, z2: 8, z3: 8, epochs: 200, AUC: 0.9530\n",
      "z1: 16, z2: 16, z3: 2, epochs: 100, AUC: 0.9294\n",
      "z1: 16, z2: 16, z3: 2, epochs: 200, AUC: 0.9480\n",
      "z1: 16, z2: 16, z3: 4, epochs: 100, AUC: 0.9599\n",
      "z1: 16, z2: 16, z3: 4, epochs: 200, AUC: 0.9487\n",
      "z1: 16, z2: 16, z3: 8, epochs: 100, AUC: 0.9410\n",
      "z1: 16, z2: 16, z3: 8, epochs: 200, AUC: 0.9334\n",
      "z1: 24, z2: 4, z3: 2, epochs: 100, AUC: 0.9467\n",
      "z1: 24, z2: 4, z3: 2, epochs: 200, AUC: 0.9463\n",
      "z1: 24, z2: 4, z3: 4, epochs: 100, AUC: 0.9427\n",
      "z1: 24, z2: 4, z3: 4, epochs: 200, AUC: 0.9472\n",
      "z1: 24, z2: 4, z3: 8, epochs: 100, AUC: 0.9622\n",
      "z1: 24, z2: 4, z3: 8, epochs: 200, AUC: 0.9514\n",
      "z1: 24, z2: 8, z3: 2, epochs: 100, AUC: 0.9441\n",
      "z1: 24, z2: 8, z3: 2, epochs: 200, AUC: 0.9390\n",
      "z1: 24, z2: 8, z3: 4, epochs: 100, AUC: 0.9449\n",
      "z1: 24, z2: 8, z3: 4, epochs: 200, AUC: 0.9461\n",
      "z1: 24, z2: 8, z3: 8, epochs: 100, AUC: 0.9595\n",
      "z1: 24, z2: 8, z3: 8, epochs: 200, AUC: 0.9453\n",
      "z1: 24, z2: 16, z3: 2, epochs: 100, AUC: 0.9424\n",
      "z1: 24, z2: 16, z3: 2, epochs: 200, AUC: 0.9414\n",
      "z1: 24, z2: 16, z3: 4, epochs: 100, AUC: 0.9422\n",
      "z1: 24, z2: 16, z3: 4, epochs: 200, AUC: 0.9390\n",
      "z1: 24, z2: 16, z3: 8, epochs: 100, AUC: 0.9475\n",
      "z1: 24, z2: 16, z3: 8, epochs: 200, AUC: 0.9421\n"
     ]
    }
   ],
   "source": [
    "X_train = data[\"x\"]\n",
    "X_test = data[\"tx\"]\n",
    "y_test = data[\"ty\"]\n",
    "input_dim = X_train.shape[1]\n",
    "\n",
    "results = train_models_deep_hvae(\n",
    "    X_train=X_train,\n",
    "    X_test=X_test,\n",
    "    y_test=y_test,\n",
    "    input_dim=input_dim,\n",
    "    z1_list=[8, 16, 24],\n",
    "    z2_list=[4, 8, 16],\n",
    "    z3_list = [2, 4, 8],\n",
    "    epoch_list=[100, 200],\n",
    "    optimizer_type=\"adam\"\n",
    ")\n"
   ]
  },
  {
   "cell_type": "code",
   "execution_count": null,
   "id": "bcdd520d",
   "metadata": {},
   "outputs": [
    {
     "name": "stdout",
     "output_type": "stream",
     "text": [
      "\n",
      "Top 5 configurations by AUC:\n",
      "    z1_dim  z2_dim  z3_dim  epochs optimizer       auc  \\\n",
      "12       8      16       2     100      adam  0.963719   \n",
      "40      24       4       8     100      adam  0.962207   \n",
      "32      16      16       4     100      adam  0.959877   \n",
      "46      24       8       8     100      adam  0.959499   \n",
      "14       8      16       4     100      adam  0.957294   \n",
      "\n",
      "                                                model  \n",
      "12  DeepHierarchicalVAE(\\n  (encoder_z3): EncoderZ...  \n",
      "40  DeepHierarchicalVAE(\\n  (encoder_z3): EncoderZ...  \n",
      "32  DeepHierarchicalVAE(\\n  (encoder_z3): EncoderZ...  \n",
      "46  DeepHierarchicalVAE(\\n  (encoder_z3): EncoderZ...  \n",
      "14  DeepHierarchicalVAE(\\n  (encoder_z3): EncoderZ...  \n"
     ]
    }
   ],
   "source": [
    "df_results = pd.DataFrame(results)\n",
    "top = df_results.sort_values(by=\"auc\", ascending=False).head(5)\n",
    "print(\"\\nTop 5 configurations by AUC:\")\n",
    "print(top)\n"
   ]
  },
  {
   "cell_type": "code",
   "execution_count": null,
   "id": "a7760870",
   "metadata": {},
   "outputs": [],
   "source": [
    "filepath = \"C:/Users/apekx/Desktop/thesis/Asatellite.npz\"\n",
    "\n",
    "data = np.load(filepath)"
   ]
  },
  {
   "cell_type": "code",
   "execution_count": null,
   "id": "9eba207e",
   "metadata": {},
   "outputs": [
    {
     "name": "stdout",
     "output_type": "stream",
     "text": [
      "['x', 'tx', 'ty']\n"
     ]
    }
   ],
   "source": [
    "print(data.files)"
   ]
  },
  {
   "cell_type": "code",
   "execution_count": null,
   "id": "f72813e8",
   "metadata": {},
   "outputs": [
    {
     "name": "stdout",
     "output_type": "stream",
     "text": [
      "Train data (x): (2363, 36)\n",
      "Test data (tx): (4072, 36)\n",
      "Test labels (ty): (4072,)\n",
      "Test label counts: [2036 2036]\n"
     ]
    }
   ],
   "source": [
    "print(\"Train data (x):\", data[\"x\"].shape)\n",
    "print(\"Test data (tx):\", data[\"tx\"].shape)\n",
    "print(\"Test labels (ty):\", data[\"ty\"].shape)\n",
    "print(\"Test label counts:\", np.bincount(data[\"ty\"].astype(int)))\n",
    "\n"
   ]
  },
  {
   "cell_type": "code",
   "execution_count": null,
   "id": "01f22bf2",
   "metadata": {},
   "outputs": [
    {
     "name": "stdout",
     "output_type": "stream",
     "text": [
      "z1: 8, z2: 4, z3: 2, epochs: 100, AUC: 0.8145\n",
      "z1: 8, z2: 4, z3: 2, epochs: 200, AUC: 0.8278\n",
      "z1: 8, z2: 4, z3: 4, epochs: 100, AUC: 0.8099\n",
      "z1: 8, z2: 4, z3: 4, epochs: 200, AUC: 0.8301\n",
      "z1: 8, z2: 4, z3: 8, epochs: 100, AUC: 0.8091\n",
      "z1: 8, z2: 4, z3: 8, epochs: 200, AUC: 0.8357\n",
      "z1: 8, z2: 8, z3: 2, epochs: 100, AUC: 0.8237\n",
      "z1: 8, z2: 8, z3: 2, epochs: 200, AUC: 0.8325\n",
      "z1: 8, z2: 8, z3: 4, epochs: 100, AUC: 0.8225\n",
      "z1: 8, z2: 8, z3: 4, epochs: 200, AUC: 0.8326\n",
      "z1: 8, z2: 8, z3: 8, epochs: 100, AUC: 0.8168\n",
      "z1: 8, z2: 8, z3: 8, epochs: 200, AUC: 0.8304\n",
      "z1: 8, z2: 16, z3: 2, epochs: 100, AUC: 0.8139\n",
      "z1: 8, z2: 16, z3: 2, epochs: 200, AUC: 0.8293\n",
      "z1: 8, z2: 16, z3: 4, epochs: 100, AUC: 0.8121\n",
      "z1: 8, z2: 16, z3: 4, epochs: 200, AUC: 0.8365\n",
      "z1: 8, z2: 16, z3: 8, epochs: 100, AUC: 0.8110\n",
      "z1: 8, z2: 16, z3: 8, epochs: 200, AUC: 0.8331\n",
      "z1: 16, z2: 4, z3: 2, epochs: 100, AUC: 0.8165\n",
      "z1: 16, z2: 4, z3: 2, epochs: 200, AUC: 0.8300\n",
      "z1: 16, z2: 4, z3: 4, epochs: 100, AUC: 0.8124\n",
      "z1: 16, z2: 4, z3: 4, epochs: 200, AUC: 0.8330\n",
      "z1: 16, z2: 4, z3: 8, epochs: 100, AUC: 0.8162\n",
      "z1: 16, z2: 4, z3: 8, epochs: 200, AUC: 0.8312\n",
      "z1: 16, z2: 8, z3: 2, epochs: 100, AUC: 0.8115\n",
      "z1: 16, z2: 8, z3: 2, epochs: 200, AUC: 0.8319\n",
      "z1: 16, z2: 8, z3: 4, epochs: 100, AUC: 0.8219\n",
      "z1: 16, z2: 8, z3: 4, epochs: 200, AUC: 0.8329\n",
      "z1: 16, z2: 8, z3: 8, epochs: 100, AUC: 0.8174\n",
      "z1: 16, z2: 8, z3: 8, epochs: 200, AUC: 0.8327\n",
      "z1: 16, z2: 16, z3: 2, epochs: 100, AUC: 0.8127\n",
      "z1: 16, z2: 16, z3: 2, epochs: 200, AUC: 0.8317\n",
      "z1: 16, z2: 16, z3: 4, epochs: 100, AUC: 0.8197\n",
      "z1: 16, z2: 16, z3: 4, epochs: 200, AUC: 0.8296\n",
      "z1: 16, z2: 16, z3: 8, epochs: 100, AUC: 0.8208\n",
      "z1: 16, z2: 16, z3: 8, epochs: 200, AUC: 0.8324\n",
      "z1: 24, z2: 4, z3: 2, epochs: 100, AUC: 0.8149\n",
      "z1: 24, z2: 4, z3: 2, epochs: 200, AUC: 0.8248\n",
      "z1: 24, z2: 4, z3: 4, epochs: 100, AUC: 0.8207\n",
      "z1: 24, z2: 4, z3: 4, epochs: 200, AUC: 0.8334\n",
      "z1: 24, z2: 4, z3: 8, epochs: 100, AUC: 0.8206\n",
      "z1: 24, z2: 4, z3: 8, epochs: 200, AUC: 0.8336\n",
      "z1: 24, z2: 8, z3: 2, epochs: 100, AUC: 0.8122\n",
      "z1: 24, z2: 8, z3: 2, epochs: 200, AUC: 0.8351\n",
      "z1: 24, z2: 8, z3: 4, epochs: 100, AUC: 0.8202\n",
      "z1: 24, z2: 8, z3: 4, epochs: 200, AUC: 0.8372\n",
      "z1: 24, z2: 8, z3: 8, epochs: 100, AUC: 0.8234\n",
      "z1: 24, z2: 8, z3: 8, epochs: 200, AUC: 0.8331\n",
      "z1: 24, z2: 16, z3: 2, epochs: 100, AUC: 0.8238\n",
      "z1: 24, z2: 16, z3: 2, epochs: 200, AUC: 0.8276\n",
      "z1: 24, z2: 16, z3: 4, epochs: 100, AUC: 0.8138\n",
      "z1: 24, z2: 16, z3: 4, epochs: 200, AUC: 0.8347\n",
      "z1: 24, z2: 16, z3: 8, epochs: 100, AUC: 0.8189\n",
      "z1: 24, z2: 16, z3: 8, epochs: 200, AUC: 0.8298\n"
     ]
    }
   ],
   "source": [
    "X_train = data[\"x\"]\n",
    "X_test = data[\"tx\"]\n",
    "y_test = data[\"ty\"]\n",
    "input_dim = X_train.shape[1]\n",
    "\n",
    "results = train_models_deep_hvae(\n",
    "    X_train=X_train,\n",
    "    X_test=X_test,\n",
    "    y_test=y_test,\n",
    "    input_dim=input_dim,\n",
    "    z1_list=[8, 16, 24],\n",
    "    z2_list=[4, 8, 16],\n",
    "    z3_list = [2, 4, 8],\n",
    "    epoch_list=[100, 200],\n",
    "    optimizer_type=\"adam\"\n",
    ")"
   ]
  },
  {
   "cell_type": "code",
   "execution_count": null,
   "id": "64ebf6a8",
   "metadata": {},
   "outputs": [
    {
     "name": "stdout",
     "output_type": "stream",
     "text": [
      "\n",
      "Top 5 configurations by AUC:\n",
      "    z1_dim  z2_dim  z3_dim  epochs optimizer       auc  \\\n",
      "45      24       8       4     200      adam  0.837171   \n",
      "15       8      16       4     200      adam  0.836507   \n",
      "5        8       4       8     200      adam  0.835745   \n",
      "43      24       8       2     200      adam  0.835097   \n",
      "51      24      16       4     200      adam  0.834741   \n",
      "\n",
      "                                                model  \n",
      "45  DeepHierarchicalVAE(\\n  (encoder_z3): EncoderZ...  \n",
      "15  DeepHierarchicalVAE(\\n  (encoder_z3): EncoderZ...  \n",
      "5   DeepHierarchicalVAE(\\n  (encoder_z3): EncoderZ...  \n",
      "43  DeepHierarchicalVAE(\\n  (encoder_z3): EncoderZ...  \n",
      "51  DeepHierarchicalVAE(\\n  (encoder_z3): EncoderZ...  \n"
     ]
    }
   ],
   "source": [
    "df_results = pd.DataFrame(results)\n",
    "top = df_results.sort_values(by=\"auc\", ascending=False).head(5)\n",
    "print(\"\\nTop 5 configurations by AUC:\")\n",
    "print(top)\n"
   ]
  },
  {
   "cell_type": "code",
   "execution_count": null,
   "id": "932043e7",
   "metadata": {},
   "outputs": [],
   "source": [
    "filepath = \"C:/Users/apekx/Desktop/thesis/cardio.npz\"\n",
    "\n",
    "data = np.load(filepath)"
   ]
  },
  {
   "cell_type": "code",
   "execution_count": null,
   "id": "94472322",
   "metadata": {},
   "outputs": [
    {
     "name": "stdout",
     "output_type": "stream",
     "text": [
      "['x', 'tx', 'ty']\n"
     ]
    }
   ],
   "source": [
    "print(data.files)"
   ]
  },
  {
   "cell_type": "code",
   "execution_count": null,
   "id": "722f2bd1",
   "metadata": {},
   "outputs": [
    {
     "name": "stdout",
     "output_type": "stream",
     "text": [
      "Train data (x): (1479, 21)\n",
      "Test data (tx): (352, 21)\n",
      "Test labels (ty): (352,)\n",
      "Test label counts: [176 176]\n"
     ]
    }
   ],
   "source": [
    "print(\"Train data (x):\", data[\"x\"].shape)\n",
    "print(\"Test data (tx):\", data[\"tx\"].shape)\n",
    "print(\"Test labels (ty):\", data[\"ty\"].shape)\n",
    "print(\"Test label counts:\", np.bincount(data[\"ty\"].astype(int)))\n",
    "\n"
   ]
  },
  {
   "cell_type": "code",
   "execution_count": null,
   "id": "dcdd07a5",
   "metadata": {},
   "outputs": [
    {
     "name": "stdout",
     "output_type": "stream",
     "text": [
      "z1: 8, z2: 4, z3: 2, epochs: 100, AUC: 0.7629\n",
      "z1: 8, z2: 4, z3: 2, epochs: 200, AUC: 0.7966\n",
      "z1: 8, z2: 4, z3: 4, epochs: 100, AUC: 0.7602\n",
      "z1: 8, z2: 4, z3: 4, epochs: 200, AUC: 0.7551\n",
      "z1: 8, z2: 4, z3: 8, epochs: 100, AUC: 0.8126\n",
      "z1: 8, z2: 4, z3: 8, epochs: 200, AUC: 0.7862\n",
      "z1: 8, z2: 8, z3: 2, epochs: 100, AUC: 0.7706\n",
      "z1: 8, z2: 8, z3: 2, epochs: 200, AUC: 0.7520\n",
      "z1: 8, z2: 8, z3: 4, epochs: 100, AUC: 0.7515\n",
      "z1: 8, z2: 8, z3: 4, epochs: 200, AUC: 0.7696\n",
      "z1: 8, z2: 8, z3: 8, epochs: 100, AUC: 0.7845\n",
      "z1: 8, z2: 8, z3: 8, epochs: 200, AUC: 0.7686\n",
      "z1: 8, z2: 16, z3: 2, epochs: 100, AUC: 0.7895\n",
      "z1: 8, z2: 16, z3: 2, epochs: 200, AUC: 0.7934\n",
      "z1: 8, z2: 16, z3: 4, epochs: 100, AUC: 0.7933\n",
      "z1: 8, z2: 16, z3: 4, epochs: 200, AUC: 0.7472\n",
      "z1: 8, z2: 16, z3: 8, epochs: 100, AUC: 0.7604\n",
      "z1: 8, z2: 16, z3: 8, epochs: 200, AUC: 0.7832\n",
      "z1: 16, z2: 4, z3: 2, epochs: 100, AUC: 0.7812\n",
      "z1: 16, z2: 4, z3: 2, epochs: 200, AUC: 0.8265\n",
      "z1: 16, z2: 4, z3: 4, epochs: 100, AUC: 0.7596\n",
      "z1: 16, z2: 4, z3: 4, epochs: 200, AUC: 0.7877\n",
      "z1: 16, z2: 4, z3: 8, epochs: 100, AUC: 0.8024\n",
      "z1: 16, z2: 4, z3: 8, epochs: 200, AUC: 0.7813\n",
      "z1: 16, z2: 8, z3: 2, epochs: 100, AUC: 0.8007\n",
      "z1: 16, z2: 8, z3: 2, epochs: 200, AUC: 0.7751\n",
      "z1: 16, z2: 8, z3: 4, epochs: 100, AUC: 0.7723\n",
      "z1: 16, z2: 8, z3: 4, epochs: 200, AUC: 0.7925\n",
      "z1: 16, z2: 8, z3: 8, epochs: 100, AUC: 0.7530\n",
      "z1: 16, z2: 8, z3: 8, epochs: 200, AUC: 0.7364\n",
      "z1: 16, z2: 16, z3: 2, epochs: 100, AUC: 0.7683\n",
      "z1: 16, z2: 16, z3: 2, epochs: 200, AUC: 0.7622\n",
      "z1: 16, z2: 16, z3: 4, epochs: 100, AUC: 0.7864\n",
      "z1: 16, z2: 16, z3: 4, epochs: 200, AUC: 0.7691\n",
      "z1: 16, z2: 16, z3: 8, epochs: 100, AUC: 0.7952\n",
      "z1: 16, z2: 16, z3: 8, epochs: 200, AUC: 0.7802\n",
      "z1: 24, z2: 4, z3: 2, epochs: 100, AUC: 0.8281\n",
      "z1: 24, z2: 4, z3: 2, epochs: 200, AUC: 0.8019\n",
      "z1: 24, z2: 4, z3: 4, epochs: 100, AUC: 0.7649\n",
      "z1: 24, z2: 4, z3: 4, epochs: 200, AUC: 0.7528\n",
      "z1: 24, z2: 4, z3: 8, epochs: 100, AUC: 0.7882\n",
      "z1: 24, z2: 4, z3: 8, epochs: 200, AUC: 0.7731\n",
      "z1: 24, z2: 8, z3: 2, epochs: 100, AUC: 0.7656\n",
      "z1: 24, z2: 8, z3: 2, epochs: 200, AUC: 0.7997\n",
      "z1: 24, z2: 8, z3: 4, epochs: 100, AUC: 0.7965\n",
      "z1: 24, z2: 8, z3: 4, epochs: 200, AUC: 0.7982\n",
      "z1: 24, z2: 8, z3: 8, epochs: 100, AUC: 0.8087\n",
      "z1: 24, z2: 8, z3: 8, epochs: 200, AUC: 0.7949\n",
      "z1: 24, z2: 16, z3: 2, epochs: 100, AUC: 0.7982\n",
      "z1: 24, z2: 16, z3: 2, epochs: 200, AUC: 0.8104\n",
      "z1: 24, z2: 16, z3: 4, epochs: 100, AUC: 0.7588\n",
      "z1: 24, z2: 16, z3: 4, epochs: 200, AUC: 0.7970\n",
      "z1: 24, z2: 16, z3: 8, epochs: 100, AUC: 0.7501\n",
      "z1: 24, z2: 16, z3: 8, epochs: 200, AUC: 0.7693\n"
     ]
    }
   ],
   "source": [
    "X_train = data[\"x\"]\n",
    "X_test = data[\"tx\"]\n",
    "y_test = data[\"ty\"]\n",
    "input_dim = X_train.shape[1]\n",
    "\n",
    "results = train_models_deep_hvae(\n",
    "    X_train=X_train,\n",
    "    X_test=X_test,\n",
    "    y_test=y_test,\n",
    "    input_dim=input_dim,\n",
    "    z1_list=[8, 16, 24],\n",
    "    z2_list=[4, 8, 16],\n",
    "    z3_list = [2, 4, 8],\n",
    "    epoch_list=[100, 200],\n",
    "    optimizer_type=\"adam\"\n",
    ")"
   ]
  },
  {
   "cell_type": "code",
   "execution_count": null,
   "id": "2e73155e",
   "metadata": {},
   "outputs": [
    {
     "name": "stdout",
     "output_type": "stream",
     "text": [
      "\n",
      "Top 5 configurations by AUC:\n",
      "    z1_dim  z2_dim  z3_dim  epochs optimizer       auc  \\\n",
      "36      24       4       2     100      adam  0.828125   \n",
      "19      16       4       2     200      adam  0.826543   \n",
      "4        8       4       8     100      adam  0.812565   \n",
      "49      24      16       2     200      adam  0.810402   \n",
      "46      24       8       8     100      adam  0.808723   \n",
      "\n",
      "                                                model  \n",
      "36  DeepHierarchicalVAE(\\n  (encoder_z3): EncoderZ...  \n",
      "19  DeepHierarchicalVAE(\\n  (encoder_z3): EncoderZ...  \n",
      "4   DeepHierarchicalVAE(\\n  (encoder_z3): EncoderZ...  \n",
      "49  DeepHierarchicalVAE(\\n  (encoder_z3): EncoderZ...  \n",
      "46  DeepHierarchicalVAE(\\n  (encoder_z3): EncoderZ...  \n"
     ]
    }
   ],
   "source": [
    "df_results = pd.DataFrame(results)\n",
    "top = df_results.sort_values(by=\"auc\", ascending=False).head(5)\n",
    "print(\"\\nTop 5 configurations by AUC:\")\n",
    "print(top)\n"
   ]
  }
 ],
 "metadata": {
  "kernelspec": {
   "display_name": "Python 3",
   "language": "python",
   "name": "python3"
  },
  "language_info": {
   "codemirror_mode": {
    "name": "ipython",
    "version": 3
   },
   "file_extension": ".py",
   "mimetype": "text/x-python",
   "name": "python",
   "nbconvert_exporter": "python",
   "pygments_lexer": "ipython3",
   "version": "3.10.4"
  }
 },
 "nbformat": 4,
 "nbformat_minor": 5
}
